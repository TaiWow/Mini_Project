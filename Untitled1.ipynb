{
  "nbformat": 4,
  "nbformat_minor": 0,
  "metadata": {
    "colab": {
      "provenance": [],
      "authorship_tag": "ABX9TyOb9hTbO7Y8zQzDhPtuuot7",
      "include_colab_link": true
    },
    "kernelspec": {
      "name": "python3",
      "display_name": "Python 3"
    },
    "language_info": {
      "name": "python"
    }
  },
  "cells": [
    {
      "cell_type": "markdown",
      "metadata": {
        "id": "view-in-github",
        "colab_type": "text"
      },
      "source": [
        "<a href=\"https://colab.research.google.com/github/TaiWow/Mini_Project/blob/main/Untitled1.ipynb\" target=\"_parent\"><img src=\"https://colab.research.google.com/assets/colab-badge.svg\" alt=\"Open In Colab\"/></a>"
      ]
    },
    {
      "cell_type": "code",
      "execution_count": null,
      "metadata": {
        "id": "SO1nz5UjbaRZ"
      },
      "outputs": [],
      "source": [
        "# Set-up\n",
        "%load_ext sql\n",
        "%sql sqlite://\n",
        "import pandas as pd"
      ]
    },
    {
      "cell_type": "code",
      "source": [
        "def get_punched(health, armor=0):\n",
        "    damage = 50 - armor\n",
        "    new_health = health - damage\n",
        "    return new_health\n",
        "\n",
        "\n",
        "def get_slashed(health, armor=0):\n",
        "    damage = 100 - armor\n",
        "    new_health = health - damage\n",
        "    return new_health\n",
        "\n",
        "\n",
        "# Don't touch below this line\n",
        "\n",
        "\n",
        "def test(health, armor):\n",
        "    print(f\"Health: {health}, Armor: {armor}\")\n",
        "    print(f\"Health after punch: {get_punched(health, armor)}\")\n",
        "    print(\"=====================================\")\n",
        "    print(f\"Health: {health}, Armor: {armor}\")\n",
        "    print(f\"Health after slash: {get_slashed(health, armor)}\\n\")\n",
        "    print(\"=====================================\")\n",
        "    print(f\"Health: {health}, Armor: no armor!\")\n",
        "    print(f\"Health after slash: {get_slashed(health)}\\n\")\n",
        "    print(\"=====================================\")\n",
        "    print(f\"Health: {health}, Armor: no armor!\")\n",
        "    print(f\"Health after punch: {get_punched(health)}\")\n",
        "    print(\"=====================================\")\n",
        "\n",
        "\n",
        "test(400, 5)\n",
        "test(300, 3)\n",
        "test(200, 1)"
      ],
      "metadata": {
        "colab": {
          "base_uri": "https://localhost:8080/"
        },
        "id": "6gRlvS_IG3Hm",
        "outputId": "fb674e0a-3bd0-4449-b3f3-31e290986503"
      },
      "execution_count": null,
      "outputs": [
        {
          "output_type": "stream",
          "name": "stdout",
          "text": [
            "Health: 400, Armor: 5\n",
            "Health after punch: 355\n",
            "=====================================\n",
            "Health: 400, Armor: 5\n",
            "Health after slash: 305\n",
            "\n",
            "=====================================\n",
            "Health: 400, Armor: no armor!\n",
            "Health after slash: 300\n",
            "\n",
            "=====================================\n",
            "Health: 400, Armor: no armor!\n",
            "Health after punch: 350\n",
            "=====================================\n",
            "Health: 300, Armor: 3\n",
            "Health after punch: 253\n",
            "=====================================\n",
            "Health: 300, Armor: 3\n",
            "Health after slash: 203\n",
            "\n",
            "=====================================\n",
            "Health: 300, Armor: no armor!\n",
            "Health after slash: 200\n",
            "\n",
            "=====================================\n",
            "Health: 300, Armor: no armor!\n",
            "Health after punch: 250\n",
            "=====================================\n",
            "Health: 200, Armor: 1\n",
            "Health after punch: 151\n",
            "=====================================\n",
            "Health: 200, Armor: 1\n",
            "Health after slash: 101\n",
            "\n",
            "=====================================\n",
            "Health: 200, Armor: no armor!\n",
            "Health after slash: 100\n",
            "\n",
            "=====================================\n",
            "Health: 200, Armor: no armor!\n",
            "Health after punch: 150\n",
            "=====================================\n"
          ]
        }
      ]
    },
    {
      "cell_type": "code",
      "source": [
        "%%sql\n",
        "CREATE TABLE users (\n",
        "    id INTEGER PRIMARY KEY,\n",
        "    name TEXT NOT NULL,\n",
        "    age INTEGER NOT NULL,\n",
        "    country_code TEXT NOT NULL,\n",
        "    username TEXT UNIQUE,\n",
        "    password TEXT NOT NULL,\n",
        "    is_admin BOOLEAN\n",
        ");\n",
        "\n",
        "\n"
      ],
      "metadata": {
        "id": "v19tCZsfbiTj"
      },
      "execution_count": null,
      "outputs": []
    },
    {
      "cell_type": "code",
      "source": [
        "%%sql\n",
        "\n",
        "INSERT INTO users (id, name, age, country_code, username, password, is_admin)\n",
        "VALUES (1, 'David', 34, 'US', 'DavidDev', 'insertPractice', false);\n",
        "\n",
        "INSERT INTO users (id, name, age, country_code, username, password, is_admin)\n",
        "VALUES (2, 'Samantha', 29, 'BR', 'Sammy93', 'addingRecords!', false);\n"
      ],
      "metadata": {
        "colab": {
          "base_uri": "https://localhost:8080/"
        },
        "collapsed": true,
        "id": "VIi8ggjMcF8n",
        "outputId": "e1396f03-5cfb-451c-bcb2-06649184be88"
      },
      "execution_count": null,
      "outputs": [
        {
          "output_type": "stream",
          "name": "stdout",
          "text": [
            " * sqlite://\n",
            "Done.\n",
            "1 rows affected.\n",
            "1 rows affected.\n"
          ]
        },
        {
          "output_type": "execute_result",
          "data": {
            "text/plain": [
              "[]"
            ]
          },
          "metadata": {},
          "execution_count": 7
        }
      ]
    },
    {
      "cell_type": "code",
      "source": [
        "%%sql\n",
        "select * from users;"
      ],
      "metadata": {
        "colab": {
          "base_uri": "https://localhost:8080/",
          "height": 116
        },
        "id": "ZBqZtV2ecclo",
        "outputId": "e503bbc0-199a-4da0-a433-741e9c057063"
      },
      "execution_count": null,
      "outputs": [
        {
          "output_type": "stream",
          "name": "stdout",
          "text": [
            " * sqlite://\n",
            "Done.\n"
          ]
        },
        {
          "output_type": "execute_result",
          "data": {
            "text/plain": [
              "[(1, 'David', 34, 'US', 'DavidDev', 'insertPractice', 0),\n",
              " (2, 'Samantha', 29, 'BR', 'Sammy93', 'addingRecords!', 0)]"
            ],
            "text/html": [
              "<table>\n",
              "    <thead>\n",
              "        <tr>\n",
              "            <th>id</th>\n",
              "            <th>name</th>\n",
              "            <th>age</th>\n",
              "            <th>country_code</th>\n",
              "            <th>username</th>\n",
              "            <th>password</th>\n",
              "            <th>is_admin</th>\n",
              "        </tr>\n",
              "    </thead>\n",
              "    <tbody>\n",
              "        <tr>\n",
              "            <td>1</td>\n",
              "            <td>David</td>\n",
              "            <td>34</td>\n",
              "            <td>US</td>\n",
              "            <td>DavidDev</td>\n",
              "            <td>insertPractice</td>\n",
              "            <td>0</td>\n",
              "        </tr>\n",
              "        <tr>\n",
              "            <td>2</td>\n",
              "            <td>Samantha</td>\n",
              "            <td>29</td>\n",
              "            <td>BR</td>\n",
              "            <td>Sammy93</td>\n",
              "            <td>addingRecords!</td>\n",
              "            <td>0</td>\n",
              "        </tr>\n",
              "    </tbody>\n",
              "</table>"
            ]
          },
          "metadata": {},
          "execution_count": 8
        }
      ]
    }
  ]
}